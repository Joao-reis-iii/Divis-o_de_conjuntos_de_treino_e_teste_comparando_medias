{
 "cells": [
  {
   "cell_type": "markdown",
   "id": "0b6da54e",
   "metadata": {},
   "source": [
    "# Fatiamento do dataset em amostra de treinamento e teste. Comparamos as médias.\n",
    "\n",
    "-------------------\n",
    "Esta postagem interpreta e reproduz a estratégia de análise de Klosterman (2019).\n"
   ]
  },
  {
   "cell_type": "markdown",
   "id": "185330f3",
   "metadata": {},
   "source": [
    "Importação e checagem de versões das bibliotecas e pacotes"
   ]
  },
  {
   "cell_type": "code",
   "execution_count": 2,
   "id": "ff7412bd",
   "metadata": {},
   "outputs": [],
   "source": [
    "import sys\n",
    "import numpy as np\n",
    "import pandas as pd\n",
    "import matplotlib as mpl\n",
    "import sklearn"
   ]
  },
  {
   "cell_type": "markdown",
   "id": "d04fc0cd",
   "metadata": {},
   "source": [
    "# Dataset para análise: cartão de crédito"
   ]
  },
  {
   "cell_type": "code",
   "execution_count": 3,
   "id": "02f677dd",
   "metadata": {},
   "outputs": [],
   "source": [
    "df = pd.read_csv('C:/Users/Joao3/Chapter_1_cleaned_data.csv')"
   ]
  },
  {
   "cell_type": "markdown",
   "id": "38d3c4c3",
   "metadata": {},
   "source": [
    "RELACIONAMENTO ENTRE AS VARIÁVEIS 'EDUCATION' vs 'default payment next month'\n",
    "\n",
    "Divisão dos dados para treinamento e teste\n",
    "\n",
    "# Divisão dos dados em conjuntos de treinamento (80%) e teste (20%)\n"
   ]
  },
  {
   "cell_type": "code",
   "execution_count": 4,
   "id": "e69d929a",
   "metadata": {},
   "outputs": [],
   "source": [
    "from sklearn.model_selection import train_test_split\n",
    "X_train, X_test, y_train, y_test = train_test_split(\n",
    "df['EDUCATION'].values.reshape(-1,1), df['default payment next month'].values,\n",
    "test_size=0.2, random_state=24)"
   ]
  },
  {
   "cell_type": "markdown",
   "id": "9368ab2f",
   "metadata": {},
   "source": [
    "VERIFICAÇÃO DOS CONJUNTOS DE TREINAMENTO E TESTE"
   ]
  },
  {
   "cell_type": "code",
   "execution_count": 5,
   "id": "be66a7f1",
   "metadata": {},
   "outputs": [
    {
     "name": "stdout",
     "output_type": "stream",
     "text": [
      "(21331, 1)\n",
      "(5333, 1)\n",
      "(21331,)\n",
      "(5333,)\n"
     ]
    }
   ],
   "source": [
    "print(X_train.shape) #X=EDUCATION\n",
    "print(X_test.shape)\n",
    "print(y_train.shape) #y=default payment next month\n",
    "print(y_test.shape)"
   ]
  },
  {
   "cell_type": "markdown",
   "id": "9b5bb4a7",
   "metadata": {},
   "source": [
    "VERIFICAÇÃO DAS MÉDIAS DE TREINO E TESTE - Frações das classes nos dados.\n",
    "Observamos a seguir que as médias são semelhantes."
   ]
  },
  {
   "cell_type": "code",
   "execution_count": 6,
   "id": "285115f4",
   "metadata": {},
   "outputs": [
    {
     "data": {
      "text/plain": [
       "0.223102526838873"
      ]
     },
     "execution_count": 6,
     "metadata": {},
     "output_type": "execute_result"
    }
   ],
   "source": [
    "np.mean(y_train)   #Média da variável 'default payment next month' da amostra de treinamento"
   ]
  },
  {
   "cell_type": "code",
   "execution_count": 7,
   "id": "f8d52631",
   "metadata": {},
   "outputs": [
    {
     "data": {
      "text/plain": [
       "0.21657603600225014"
      ]
     },
     "execution_count": 7,
     "metadata": {},
     "output_type": "execute_result"
    }
   ],
   "source": [
    "np.mean(y_test)    #Média da variável 'default payment next month' da AMOSTRA DE TESTE"
   ]
  },
  {
   "cell_type": "markdown",
   "id": "dea2cc54",
   "metadata": {},
   "source": []
  }
 ],
 "metadata": {
  "kernelspec": {
   "display_name": "Python 3",
   "language": "python",
   "name": "python3"
  },
  "language_info": {
   "codemirror_mode": {
    "name": "ipython",
    "version": 3
   },
   "file_extension": ".py",
   "mimetype": "text/x-python",
   "name": "python",
   "nbconvert_exporter": "python",
   "pygments_lexer": "ipython3",
   "version": "3.8.8"
  }
 },
 "nbformat": 4,
 "nbformat_minor": 5
}
